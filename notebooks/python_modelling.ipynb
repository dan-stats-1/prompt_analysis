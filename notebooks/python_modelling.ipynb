{
 "cells": [
  {
   "cell_type": "code",
   "execution_count": 41,
   "id": "a4c10c16-3379-40ee-bd27-8c30c633e2ed",
   "metadata": {},
   "outputs": [],
   "source": [
    "import matplotlib.pyplot as plt\n",
    "import polars as pl\n",
    "import statsmodels.api as sm"
   ]
  },
  {
   "cell_type": "code",
   "execution_count": 53,
   "id": "070a2cd8-7ba3-4802-bba2-36a3502bfe65",
   "metadata": {},
   "outputs": [],
   "source": [
    "_ = pl.Config.set_tbl_rows(100)"
   ]
  },
  {
   "cell_type": "code",
   "execution_count": 3,
   "id": "d3545f1a-d92e-4034-a909-e108d9f827d2",
   "metadata": {},
   "outputs": [],
   "source": [
    "df = pl.read_csv(\"../data/prompts_with_sentiment.csv\")"
   ]
  },
  {
   "cell_type": "code",
   "execution_count": 70,
   "id": "f592227e-ac34-48bc-bacc-cd328e04cb3a",
   "metadata": {},
   "outputs": [],
   "source": [
    "train = pl.concat([\n",
    "    df.filter(\n",
    "        pl.col(\"label\") == 0\n",
    "    ).sample(fraction=0.8, seed=10),\n",
    "    df.filter(\n",
    "        pl.col(\"label\") == 1\n",
    "    ).sample(fraction=0.8, seed=10)\n",
    "])"
   ]
  },
  {
   "cell_type": "code",
   "execution_count": 71,
   "id": "c2fdeef0-9474-495c-8ad5-d5489d3e8f82",
   "metadata": {},
   "outputs": [],
   "source": [
    "test = df.join(\n",
    "    train,\n",
    "    how=\"anti\",\n",
    "    on=df.columns\n",
    ")"
   ]
  },
  {
   "cell_type": "code",
   "execution_count": 72,
   "id": "5f241843-22fb-4351-baa5-d3799c6cc4f9",
   "metadata": {},
   "outputs": [
    {
     "name": "stdout",
     "output_type": "stream",
     "text": [
      "Optimization terminated successfully.\n",
      "         Current function value: 2.321725\n",
      "         Iterations: 6\n",
      "         Function evaluations: 7\n",
      "         Gradient evaluations: 7\n"
     ]
    }
   ],
   "source": [
    "mod = sm.NegativeBinomial(train.select(\"num_negative_words\").to_series().to_list(), [1 for _ in range(len(train))]).fit()"
   ]
  },
  {
   "cell_type": "code",
   "execution_count": 73,
   "id": "ba5ffcb7-9274-40a3-b4d0-31c3e9ad7934",
   "metadata": {},
   "outputs": [
    {
     "data": {
      "text/html": [
       "<table class=\"simpletable\">\n",
       "<caption>NegativeBinomial Regression Results</caption>\n",
       "<tr>\n",
       "  <th>Dep. Variable:</th>           <td>y</td>        <th>  No. Observations:  </th>  <td>   186</td>  \n",
       "</tr>\n",
       "<tr>\n",
       "  <th>Model:</th>           <td>NegativeBinomial</td> <th>  Df Residuals:      </th>  <td>   185</td>  \n",
       "</tr>\n",
       "<tr>\n",
       "  <th>Method:</th>                 <td>MLE</td>       <th>  Df Model:          </th>  <td>     0</td>  \n",
       "</tr>\n",
       "<tr>\n",
       "  <th>Date:</th>            <td>Mon, 30 Oct 2023</td> <th>  Pseudo R-squ.:     </th> <td>3.746e-11</td>\n",
       "</tr>\n",
       "<tr>\n",
       "  <th>Time:</th>                <td>22:10:58</td>     <th>  Log-Likelihood:    </th> <td> -431.84</td> \n",
       "</tr>\n",
       "<tr>\n",
       "  <th>converged:</th>             <td>True</td>       <th>  LL-Null:           </th> <td> -431.84</td> \n",
       "</tr>\n",
       "<tr>\n",
       "  <th>Covariance Type:</th>     <td>nonrobust</td>    <th>  LLR p-value:       </th>  <td>   nan</td>  \n",
       "</tr>\n",
       "</table>\n",
       "<table class=\"simpletable\">\n",
       "<tr>\n",
       "    <td></td>       <th>coef</th>     <th>std err</th>      <th>z</th>      <th>P>|z|</th>  <th>[0.025</th>    <th>0.975]</th>  \n",
       "</tr>\n",
       "<tr>\n",
       "  <th>const</th> <td>    1.4450</td> <td>    0.134</td> <td>   10.745</td> <td> 0.000</td> <td>    1.181</td> <td>    1.709</td>\n",
       "</tr>\n",
       "<tr>\n",
       "  <th>alpha</th> <td>    3.1283</td> <td>    0.402</td> <td>    7.777</td> <td> 0.000</td> <td>    2.340</td> <td>    3.917</td>\n",
       "</tr>\n",
       "</table>"
      ],
      "text/latex": [
       "\\begin{center}\n",
       "\\begin{tabular}{lclc}\n",
       "\\toprule\n",
       "\\textbf{Dep. Variable:}   &        y         & \\textbf{  No. Observations:  } &      186    \\\\\n",
       "\\textbf{Model:}           & NegativeBinomial & \\textbf{  Df Residuals:      } &      185    \\\\\n",
       "\\textbf{Method:}          &       MLE        & \\textbf{  Df Model:          } &        0    \\\\\n",
       "\\textbf{Date:}            & Mon, 30 Oct 2023 & \\textbf{  Pseudo R-squ.:     } & 3.746e-11   \\\\\n",
       "\\textbf{Time:}            &     22:10:58     & \\textbf{  Log-Likelihood:    } &   -431.84   \\\\\n",
       "\\textbf{converged:}       &       True       & \\textbf{  LL-Null:           } &   -431.84   \\\\\n",
       "\\textbf{Covariance Type:} &    nonrobust     & \\textbf{  LLR p-value:       } &      nan    \\\\\n",
       "\\bottomrule\n",
       "\\end{tabular}\n",
       "\\begin{tabular}{lcccccc}\n",
       "               & \\textbf{coef} & \\textbf{std err} & \\textbf{z} & \\textbf{P$> |$z$|$} & \\textbf{[0.025} & \\textbf{0.975]}  \\\\\n",
       "\\midrule\n",
       "\\textbf{const} &       1.4450  &        0.134     &    10.745  &         0.000        &        1.181    &        1.709     \\\\\n",
       "\\textbf{alpha} &       3.1283  &        0.402     &     7.777  &         0.000        &        2.340    &        3.917     \\\\\n",
       "\\bottomrule\n",
       "\\end{tabular}\n",
       "%\\caption{NegativeBinomial Regression Results}\n",
       "\\end{center}"
      ],
      "text/plain": [
       "<class 'statsmodels.iolib.summary.Summary'>\n",
       "\"\"\"\n",
       "                     NegativeBinomial Regression Results                      \n",
       "==============================================================================\n",
       "Dep. Variable:                      y   No. Observations:                  186\n",
       "Model:               NegativeBinomial   Df Residuals:                      185\n",
       "Method:                           MLE   Df Model:                            0\n",
       "Date:                Mon, 30 Oct 2023   Pseudo R-squ.:               3.746e-11\n",
       "Time:                        22:10:58   Log-Likelihood:                -431.84\n",
       "converged:                       True   LL-Null:                       -431.84\n",
       "Covariance Type:            nonrobust   LLR p-value:                       nan\n",
       "==============================================================================\n",
       "                 coef    std err          z      P>|z|      [0.025      0.975]\n",
       "------------------------------------------------------------------------------\n",
       "const          1.4450      0.134     10.745      0.000       1.181       1.709\n",
       "alpha          3.1283      0.402      7.777      0.000       2.340       3.917\n",
       "==============================================================================\n",
       "\"\"\""
      ]
     },
     "execution_count": 73,
     "metadata": {},
     "output_type": "execute_result"
    }
   ],
   "source": [
    "mod.summary()"
   ]
  },
  {
   "cell_type": "code",
   "execution_count": 74,
   "id": "67413180-5b27-48da-872c-ea4bd38e84b8",
   "metadata": {},
   "outputs": [],
   "source": [
    "test = test.with_columns(\n",
    "    pl.col(\"num_negative_words\")\n",
    "    .map_elements(lambda x: int(mod.get_distribution().cdf(x)[0] > 0.62))\n",
    "    .alias(\"pred\")\n",
    ")"
   ]
  },
  {
   "cell_type": "code",
   "execution_count": 75,
   "id": "474e9750-4272-433a-b742-964f509ebfb8",
   "metadata": {},
   "outputs": [],
   "source": [
    "test = test.with_columns(\n",
    "    ((pl.col(\"label\") == 1) & (pl.col(\"pred\") == 1)).sum().alias(\"tps\"),\n",
    "    ((pl.col(\"label\") == 0) & (pl.col(\"pred\") == 1)).sum().alias(\"fps\")\n",
    ").with_columns(\n",
    "    (pl.col(\"tps\") / (pl.col(\"fps\") + pl.col(\"tps\"))).alias(\"precision\")\n",
    ")"
   ]
  },
  {
   "cell_type": "code",
   "execution_count": 77,
   "id": "6ad3750a-282b-4769-ac77-f9ff8c198413",
   "metadata": {},
   "outputs": [
    {
     "data": {
      "text/html": [
       "<div><style>\n",
       ".dataframe > thead > tr > th,\n",
       ".dataframe > tbody > tr > td {\n",
       "  text-align: right;\n",
       "  white-space: pre-wrap;\n",
       "}\n",
       "</style>\n",
       "<small>shape: (5, 7)</small><table border=\"1\" class=\"dataframe\"><thead><tr><th>prompt</th><th>label</th><th>num_negative_words</th><th>pred</th><th>tps</th><th>fps</th><th>precision</th></tr><tr><td>str</td><td>i64</td><td>i64</td><td>i64</td><td>u32</td><td>u32</td><td>f64</td></tr></thead><tbody><tr><td>&quot;I want you to …</td><td>0</td><td>2</td><td>1</td><td>15</td><td>4</td><td>0.789474</td></tr><tr><td>&quot;I want you to …</td><td>0</td><td>1</td><td>0</td><td>15</td><td>4</td><td>0.789474</td></tr><tr><td>&quot;I want you to …</td><td>0</td><td>1</td><td>0</td><td>15</td><td>4</td><td>0.789474</td></tr><tr><td>&quot;I want you to …</td><td>0</td><td>0</td><td>0</td><td>15</td><td>4</td><td>0.789474</td></tr><tr><td>&quot;I want you to …</td><td>0</td><td>1</td><td>0</td><td>15</td><td>4</td><td>0.789474</td></tr></tbody></table></div>"
      ],
      "text/plain": [
       "shape: (5, 7)\n",
       "┌───────────────────────────────────┬───────┬────────────────────┬──────┬─────┬─────┬───────────┐\n",
       "│ prompt                            ┆ label ┆ num_negative_words ┆ pred ┆ tps ┆ fps ┆ precision │\n",
       "│ ---                               ┆ ---   ┆ ---                ┆ ---  ┆ --- ┆ --- ┆ ---       │\n",
       "│ str                               ┆ i64   ┆ i64                ┆ i64  ┆ u32 ┆ u32 ┆ f64       │\n",
       "╞═══════════════════════════════════╪═══════╪════════════════════╪══════╪═════╪═════╪═══════════╡\n",
       "│ I want you to act as a film crit… ┆ 0     ┆ 2                  ┆ 1    ┆ 15  ┆ 4   ┆ 0.789474  │\n",
       "│ I want you to act as a historian… ┆ 0     ┆ 1                  ┆ 0    ┆ 15  ┆ 4   ┆ 0.789474  │\n",
       "│ I want you to act as an AI assis… ┆ 0     ┆ 1                  ┆ 0    ┆ 15  ┆ 4   ┆ 0.789474  │\n",
       "│ I want you to act as a travel gu… ┆ 0     ┆ 0                  ┆ 0    ┆ 15  ┆ 4   ┆ 0.789474  │\n",
       "│ I want you to act as a mathemati… ┆ 0     ┆ 1                  ┆ 0    ┆ 15  ┆ 4   ┆ 0.789474  │\n",
       "└───────────────────────────────────┴───────┴────────────────────┴──────┴─────┴─────┴───────────┘"
      ]
     },
     "execution_count": 77,
     "metadata": {},
     "output_type": "execute_result"
    }
   ],
   "source": [
    "test.head()"
   ]
  }
 ],
 "metadata": {
  "kernelspec": {
   "display_name": "Python 3 (ipykernel)",
   "language": "python",
   "name": "python3"
  },
  "language_info": {
   "codemirror_mode": {
    "name": "ipython",
    "version": 3
   },
   "file_extension": ".py",
   "mimetype": "text/x-python",
   "name": "python",
   "nbconvert_exporter": "python",
   "pygments_lexer": "ipython3",
   "version": "3.10.12"
  }
 },
 "nbformat": 4,
 "nbformat_minor": 5
}
